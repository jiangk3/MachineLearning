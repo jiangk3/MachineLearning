{
 "cells": [
  {
   "cell_type": "markdown",
   "metadata": {},
   "source": [
    "Problem 1\n",
    "1.1) y(x) = T(a + bx1)can shatter a,b,c. VCD = 1\n",
    "    This is a line and it can shatter b and c in thi specific arrangement but if two dots were to have the same x1 but diff x2 and therefore have a different y, the classifier would fail becuase it is only predicting based on x1.\n",
    "    \n",
    "1.2) y(x) = T(a + bx1 + cx2) can shatter a,b,c. VCD = 3\n",
    "    This is a two dimentional line and can shatter 3 points but not four becuase if the top and bottom were + but the left and right were -, the classifier would fail. Additionally, VCD is d + 1 and since this is a 2d, line, vcd = 3.\n",
    "    \n",
    "1.3) y(x) = T((x1 - a)^2 + (x2 - b)^2 + c) can shatter a,b,c,d. VCD = 4\n",
    "    This is a non-centered circle and it can shatter all the arrangements. "
   ]
  },
  {
   "cell_type": "markdown",
   "metadata": {},
   "source": [
    "Problem 2\n",
    "2.1) H(y) = 6/10 log(10/6) + 4/10 log(10/4) = 0.97095\n",
    "\n",
    "2.2) x1 = 4/10(3/4 log (4/3) + 1/4 log(4)) + 6/10(1/2 log 2 + 1/2 log 2) = 0.9245, IG = 0.04645\n",
    "     x2 = 5/10(1/5 log (5) + 4/5 log(5/4)) + 5/10 * 0 = 0.3609, IG = 0.61005\n",
    "     x3 = 3/10(2/3 log (3/2) + 1/3 log(3)) + 7/10(4/7 log(7/4) + 3/7 log(7/3) = 0.9651, IG = 0.00585\n",
    "     x4 = 3/10(2/3 log (3/2) + 1/3 log(3)) + 7/10(5/7 log(7/5) + 2/7 log(7/2) = 0.8797, IG = 0.0912\n",
    "     x5 = 3/10(2/3 log (3/2) + 1/3 log(3)) + 7/10(4/7 log(7/4) + 3/7 log(7/3) = 0.9651, IG = 0.00585\n",
    "     The highest info gain is splitting at X2.\n",
    "     \n",
    "2.3)         x2\n",
    "       = 1 /    \\ = -1\n",
    "       discard   x1\n",
    "             1 /    \\-1\n",
    "            read   x4\n",
    "               1 /    \\ -1\n",
    "               read  discard\n",
    "            "
   ]
  },
  {
   "cell_type": "code",
   "execution_count": 10,
   "metadata": {},
   "outputs": [
    {
     "name": "stdout",
     "output_type": "stream",
     "text": [
      "3.1\n",
      "Feature  1 min:  193.0\n",
      "Feature  1 max:  253.0\n",
      "Feature  1 mean:  241.58774300000002\n",
      "Feature  1 var:  83.950806887951\n",
      "Feature  2 min:  152.5\n",
      "Feature  2 max:  248.0\n",
      "Feature  2 mean:  227.3859329\n",
      "Feature  2 var:  92.29796657769758\n",
      "Feature  3 min:  214.25\n",
      "Feature  3 max:  252.38\n",
      "Feature  3 mean:  241.56281370000002\n",
      "Feature  3 var:  35.300050500092304\n",
      "Feature  4 min:  152.5\n",
      "Feature  4 max:  252.38\n",
      "Feature  4 mean:  232.8259432\n",
      "Feature  4 var:  97.44001258437376\n",
      "Feature  5 min:  10.0\n",
      "Feature  5 max:  31048.0\n",
      "Feature  5 mean:  3081.98073\n",
      "Feature  5 var:  15614364.730518669\n",
      "Feature  6 min:  0.0\n",
      "Feature  6 max:  13630.0\n",
      "Feature  6 mean:  920.77918\n",
      "Feature  6 var:  3020579.876458528\n",
      "Feature  7 min:  0.0\n",
      "Feature  7 max:  9238.0\n",
      "Feature  7 mean:  137.15228\n",
      "Feature  7 var:  435636.5727708016\n",
      "Feature  8 min:  0.0\n",
      "Feature  8 max:  125.17\n",
      "Feature  8 mean:  3.2591865429\n",
      "Feature  8 var:  8.244616324135894\n",
      "Feature  9 min:  1.1031\n",
      "Feature  9 max:  18.336\n",
      "Feature  9 mean:  6.4980262600000005\n",
      "Feature  9 var:  6.405266209771212\n",
      "Feature  10 min:  0.0\n",
      "Feature  10 max:  13.23\n",
      "Feature  10 mean:  2.0937487008100004\n",
      "Feature  10 var:  4.371492161137474\n",
      "Feature  11 min:  0.0\n",
      "Feature  11 max:  21.89\n",
      "Feature  11 mean:  4.220945726\n",
      "Feature  11 var:  4.040186886166695\n",
      "Feature  12 min:  0.0\n",
      "Feature  12 max:  46.544\n",
      "Feature  12 mean:  2.6914259745\n",
      "Feature  12 var:  2.119492454639906\n",
      "Feature  13 min:  1.0221\n",
      "Feature  13 max:  975.04\n",
      "Feature  13 mean:  10.278704247\n",
      "Feature  13 var:  429.9989898718719\n",
      "Feature  14 min:  -999.9\n",
      "Feature  14 max:  782.5\n",
      "Feature  14 mean:  5.705888000000001\n",
      "Feature  14 var:  3490.287884931455\n"
     ]
    }
   ],
   "source": [
    "import numpy as np\n",
    "import matplotlib.pyplot as plt\n",
    "import mltools as ml\n",
    "\n",
    "X = np.genfromtxt('X_train.txt', delimiter=None)\n",
    "Y = np.genfromtxt('Y_train.txt', delimiter=None)\n",
    "X,Y = ml.shuffleData(X,Y)\n",
    "\n",
    "print \"3.1\"\n",
    "\n",
    "for f in range(0,14):\n",
    "    F = X[:,f]\n",
    "    print 'Feature ', f + 1, 'min: ', np.min(F)\n",
    "    print 'Feature ', f + 1, 'max: ', np.max(F)\n",
    "    print 'Feature ', f + 1, 'mean: ', np.mean(F)\n",
    "    print 'Feature ', f + 1, 'var: ', np.var(F)"
   ]
  },
  {
   "cell_type": "code",
   "execution_count": 2,
   "metadata": {},
   "outputs": [
    {
     "name": "stdout",
     "output_type": "stream",
     "text": [
      "3.2\n",
      "t_error:  0.0062\n",
      "v_error:  0.3911\n"
     ]
    }
   ],
   "source": [
    "print '3.2'\n",
    "Xtr = np.array(X[0:10000])\n",
    "Ytr = np.array(Y[0:10000])\n",
    "Xva = np.array(X[10001:20001])\n",
    "Yva = np.array(Y[10001:20001])\n",
    "\n",
    "learner = ml.dtree.treeClassify(Xtr, Ytr, maxDepth=50)\n",
    "t_error = learner.err(Xtr,Ytr)\n",
    "v_error = learner.err(Xva,Yva)\n",
    "\n",
    "print 't_error: ', t_error\n",
    "print 'v_error: ', v_error\n"
   ]
  },
  {
   "cell_type": "code",
   "execution_count": 3,
   "metadata": {},
   "outputs": [
    {
     "name": "stdout",
     "output_type": "stream",
     "text": [
      "3.3\n"
     ]
    },
    {
     "data": {
      "image/png": "[encoded data removed]",
      "text/plain": [
       "<Figure size 360x360 with 1 Axes>"
      ]
     },
     "metadata": {
      "needs_background": "light"
     },
     "output_type": "display_data"
    },
    {
     "name": "stdout",
     "output_type": "stream",
     "text": [
      "models with higher depth have higher complexity. I recommend 5.\n"
     ]
    }
   ],
   "source": [
    "print '3.3'\n",
    "\n",
    "training = []\n",
    "validation = []\n",
    "for i in range(0,16):\n",
    "    learner = ml.dtree.treeClassify(Xtr, Ytr, maxDepth=i)\n",
    "    t_error = learner.err(Xtr,Ytr)\n",
    "    v_error = learner.err(Xva,Yva)\n",
    "    training.append(t_error)\n",
    "    validation.append(v_error)\n",
    "\n",
    "fig, ax = plt.subplots(1, 1, figsize = (5,5))\n",
    "r = [0,1,2,3,4,5,6,7,8,9,10,11,12,13,14,15]\n",
    "ax.semilogx(r, training, 'r-', lw = 3, label = 'training')\n",
    "ax.semilogx(r, validation, 'g-', lw = 3, label = 'validation')\n",
    "\n",
    "ax.legend()\n",
    "plt.show()\n",
    "    \n",
    "print 'models with higher depth have higher complexity. I recommend 5.'"
   ]
  },
  {
   "cell_type": "code",
   "execution_count": 4,
   "metadata": {},
   "outputs": [
    {
     "name": "stdout",
     "output_type": "stream",
     "text": [
      "3.4\n"
     ]
    },
    {
     "data": {
      "image/png": "[encoded data removed]",
      "text/plain": [
       "<Figure size 360x360 with 1 Axes>"
      ]
     },
     "metadata": {
      "needs_background": "light"
     },
     "output_type": "display_data"
    },
    {
     "name": "stdout",
     "output_type": "stream",
     "text": [
      "models with higher minparent have lower complexity. I recommend 512.\n"
     ]
    }
   ],
   "source": [
    "print '3.4'\n",
    "training = []\n",
    "validation = []\n",
    "mp = []\n",
    "for i in range(2,13):\n",
    "    minParent = 2**i\n",
    "    mp.append(minParent)\n",
    "    learner = ml.dtree.treeClassify(Xtr, Ytr,minParent, maxDepth=50)\n",
    "    t_error = learner.err(Xtr,Ytr)\n",
    "    v_error = learner.err(Xva,Yva)\n",
    "    training.append(t_error)\n",
    "    validation.append(v_error)\n",
    "\n",
    "fig, ax = plt.subplots(1, 1, figsize = (5,5))\n",
    "ax.semilogx(mp, training, 'r-', lw = 3, label = 'training')\n",
    "ax.semilogx(mp, validation, 'g-', lw = 3, label = 'validation')\n",
    "\n",
    "ax.legend()\n",
    "plt.show()\n",
    "\n",
    "print 'models with higher minparent have lower complexity. I recommend 512.'"
   ]
  },
  {
   "cell_type": "code",
   "execution_count": 5,
   "metadata": {},
   "outputs": [
    {
     "name": "stdout",
     "output_type": "stream",
     "text": [
      "3.5\n"
     ]
    },
    {
     "data": {
      "image/png": "[encoded data removed]",
      "text/plain": [
       "<Figure size 360x360 with 1 Axes>"
      ]
     },
     "metadata": {
      "needs_background": "light"
     },
     "output_type": "display_data"
    },
    {
     "name": "stdout",
     "output_type": "stream",
     "text": [
      "train_auc =  0.6726246402924903\n",
      "valid_auc =  0.6469518882862543\n"
     ]
    }
   ],
   "source": [
    "print '3.5'\n",
    "learner = ml.dtree.treeClassify(Xtr,Ytr, 512, maxDepth = 5)\n",
    "train_roc = learner.roc(Xtr, Ytr)\n",
    "valid_roc = learner.roc(Xva, Yva)\n",
    "fig, ax = plt.subplots(1, 1, figsize = (5,5))\n",
    "ax.plot(train_roc[0], 'r-', lw = 3, label = \"training\")\n",
    "ax.plot(valid_roc[0], 'g-', lw = 3, label = \"validation\")\n",
    "\n",
    "ax.legend()\n",
    "plt.show()\n",
    "\n",
    "train_auc = learner.auc(Xtr,Ytr)\n",
    "valid_auc = learner.auc(Xva,Yva)\n",
    "\n",
    "print 'train_auc = ', train_auc\n",
    "print 'valid_auc = ', valid_auc"
   ]
  },
  {
   "cell_type": "code",
   "execution_count": 9,
   "metadata": {},
   "outputs": [
    {
     "name": "stdout",
     "output_type": "stream",
     "text": [
      "3.6\n",
      "Kaggle Username: Karen\n",
      "Leaderboard AUC: 0.64362\n"
     ]
    }
   ],
   "source": [
    "print '3.6'\n",
    "Xtr = np.array(X)\n",
    "Ytr = np.array(Y)\n",
    "learner = ml.dtree.treeClassify(Xtr, Ytr,2048, maxDepth=15)\n",
    "Xte = np.genfromtxt('X_test.txt', delimiter=None)\n",
    "Yte = np.vstack((np.arange(Xte.shape[0]), learner.predictSoft(Xte)[:,1])).T\n",
    "np.savetxt(\"Y_submit.txt\", Yte, \"%d, %.2f\", header=\"ID,Prob1\", comments=\"\", delimiter=\",\")\n",
    "\n",
    "print 'Kaggle Username: Karen'\n",
    "print \"Leaderboard AUC: 0.67434\""
   ]
  },
  {
   "cell_type": "markdown",
   "metadata": {},
   "source": [
    "Statement of Collaboration:\n",
    "For this assignment I had discussed with Jorge Carlos about the difference between MaxDepth and Min parent."
   ]
  },
  {
   "cell_type": "code",
   "execution_count": null,
   "metadata": {},
   "outputs": [],
   "source": []
  }
 ],
 "metadata": {
  "kernelspec": {
   "display_name": "Python 2",
   "language": "python",
   "name": "python2"
  },
  "language_info": {
   "codemirror_mode": {
    "name": "ipython",
    "version": 2
   },
   "file_extension": ".py",
   "mimetype": "text/x-python",
   "name": "python",
   "nbconvert_exporter": "python",
   "pygments_lexer": "ipython2",
   "version": "2.7.15"
  }
 },
 "nbformat": 4,
 "nbformat_minor": 2
}
